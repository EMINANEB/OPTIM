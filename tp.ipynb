{
 "cells": [
  {
   "cell_type": "code",
   "execution_count": 50,
   "id": "9de7363b-2fa8-49f8-8ba7-d87fcd128210",
   "metadata": {},
   "outputs": [],
   "source": [
    "import numpy as np\n",
    "import mip \n",
    "import matplotlib.pyplot as plt\n",
    "from matplotlib import colors"
   ]
  },
  {
   "cell_type": "code",
   "execution_count": 51,
   "id": "6e51d0d5-bbdb-49a0-a941-876d44bdad34",
   "metadata": {},
   "outputs": [
    {
     "name": "stdout",
     "output_type": "stream",
     "text": [
      "[(1, 1), (1, 2), (1, 3), (1, 4), (1, 5), (2, 1), (2, 2), (2, 3), (2, 4), (2, 5), (3, 1), (3, 2), (3, 3), (3, 4), (3, 5), (4, 1), (4, 2), (4, 3), (4, 4), (4, 5), (5, 1), (5, 2), (5, 3), (5, 4), (5, 5)]\n"
     ]
    }
   ],
   "source": [
    "def is_valid_l(i,j,k):\n",
    "    if(i[0] == j[0] and abs(i[1] - j[1]) == 1):\n",
    "        return (k[1] == i[1] and abs(k[0] - j[0]) == 1) or (k[1] == j[1] and abs(k[0] - i[0]) == 1)\n",
    "    if(i[1] == j[1] and abs(i[0] - j[0]) == 1):\n",
    "        return (k[0] == i[0] and abs(k[1] - j[1]) == 1) or (k[0] == j[0] and abs(k[1] - i[1]) == 1)\n",
    "    return False\n",
    "n = 5\n",
    "squares = [(i+1,j+1) for i in range(n) for j in range(n)]\n",
    "print(squares)"
   ]
  },
  {
   "cell_type": "code",
   "execution_count": 52,
   "id": "a5e05d7c-53a4-4566-a6a4-9e0dac199037",
   "metadata": {},
   "outputs": [
    {
     "name": "stdout",
     "output_type": "stream",
     "text": [
      "64\n"
     ]
    }
   ],
   "source": [
    "Ls = set() #L set just to make sur we don't have duplicate l's \n",
    "L = []\n",
    "nbLs = 0\n",
    "for i in squares:\n",
    "    for j in squares:\n",
    "        for k in squares:\n",
    "            if(is_valid_l(i,j,k)):\n",
    "                Ls.add(frozenset({i,j,k}))\n",
    "                if(len(Ls) > nbLs):\n",
    "                    L.append([i,j,k])\n",
    "                nbLs = len(Ls)\n",
    "print(len(L))"
   ]
  },
  {
   "cell_type": "code",
   "execution_count": 53,
   "id": "820760b2-2846-46c0-b2b2-31daf83983de",
   "metadata": {},
   "outputs": [
    {
     "data": {
      "text/plain": [
       "<OptimizationStatus.OPTIMAL: 0>"
      ]
     },
     "execution_count": 53,
     "metadata": {},
     "output_type": "execute_result"
    }
   ],
   "source": [
    "m = mip.Model()\n",
    "variables = [] \n",
    "for l in range(len(L)):\n",
    "    variables.append(m.add_var(name=\"x\"+str(l),var_type=mip.BINARY)) \n",
    "for s in squares: \n",
    "    m+= mip.xsum(variables[l] for l in range(len(L)) if(s == L[l][0] or s == L[l][1] or s == L[l][2] )) <= 1\n",
    "m.objective = mip.maximize(mip.xsum(v for v in variables))\n",
    "m.verbose = 0\n",
    "m.optimize(max_seconds=300)\n"
   ]
  },
  {
   "cell_type": "code",
   "execution_count": 54,
   "id": "bd258449-1874-4a3d-9520-784f59433f17",
   "metadata": {},
   "outputs": [
    {
     "name": "stdout",
     "output_type": "stream",
     "text": [
      "m.objective_value : 8.0\n"
     ]
    }
   ],
   "source": [
    "print(f\"m.objective_value : {m.objective_value}\")"
   ]
  },
  {
   "cell_type": "code",
   "execution_count": 55,
   "id": "80cf2129-26a5-47ab-87bb-6a2e8abb8499",
   "metadata": {},
   "outputs": [],
   "source": [
    "square = np.zeros((n,n))\n",
    "color = 1\n",
    "for v in variables:\n",
    "    i = int(v.name[1:])\n",
    "    if(v.x == 1):\n",
    "        square[L[i][0][0]-1,L[i][0][1]-1] = color\n",
    "        square[L[i][1][0]-1,L[i][1][1]-1] = color\n",
    "        square[L[i][2][0]-1,L[i][2][1]-1] = color\n",
    "        color +=1\n",
    "#square = square/(len(L) + 1)"
   ]
  },
  {
   "cell_type": "code",
   "execution_count": 56,
   "id": "d6ea99da-4b6f-4023-82bb-a62eea4992b3",
   "metadata": {},
   "outputs": [
    {
     "data": {
      "text/plain": [
       "<matplotlib.image.AxesImage at 0x7f956fa3e850>"
      ]
     },
     "execution_count": 56,
     "metadata": {},
     "output_type": "execute_result"
    },
    {
     "data": {
      "image/png": "[encoded data removed]",
      "text/plain": [
       "<Figure size 432x288 with 1 Axes>"
      ]
     },
     "metadata": {
      "needs_background": "light"
     },
     "output_type": "display_data"
    }
   ],
   "source": [
    "fig, ax = plt.subplots(1, 1, tight_layout=True)\n",
    "for x in range(n+1):\n",
    "    ax.axhline(x, lw=1, color='k', zorder=5)\n",
    "    ax.axvline(x, lw=1, color='k', zorder=5)\n",
    "    \n",
    "ax.matshow(square,extent=[0, n, 0, n], zorder=0)"
   ]
  },
  {
   "cell_type": "code",
   "execution_count": null,
   "id": "1e9ce06b-5f5f-4210-9a6c-06a463c4801c",
   "metadata": {},
   "outputs": [],
   "source": []
  },
  {
   "cell_type": "code",
   "execution_count": null,
   "id": "304a2e21-af90-4ea9-add2-8213ac6b74ce",
   "metadata": {},
   "outputs": [],
   "source": []
  }
 ],
 "metadata": {
  "kernelspec": {
   "display_name": "Python 3 (ipykernel)",
   "language": "python",
   "name": "python3"
  },
  "language_info": {
   "codemirror_mode": {
    "name": "ipython",
    "version": 3
   },
   "file_extension": ".py",
   "mimetype": "text/x-python",
   "name": "python",
   "nbconvert_exporter": "python",
   "pygments_lexer": "ipython3",
   "version": "3.9.7"
  }
 },
 "nbformat": 4,
 "nbformat_minor": 5
}
